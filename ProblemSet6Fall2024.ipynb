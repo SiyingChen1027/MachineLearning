{
 "cells": [
  {
   "cell_type": "markdown",
   "metadata": {},
   "source": [
    "# Problem set 6: Fall 2024\n",
    "### Siying Chen\n",
    "Due: Thursday, November 7th at midnight"
   ]
  },
  {
   "cell_type": "code",
   "execution_count": 76,
   "metadata": {},
   "outputs": [],
   "source": [
    "# Load necessary python libraries\n",
    "%matplotlib inline\n",
    "import numpy as np\n",
    "import matplotlib.pyplot as plt\n",
    "\n",
    "# For time checks\n",
    "import time\n",
    "\n",
    "# Scikit learn models\n",
    "from sklearn.linear_model import LinearRegression\n",
    "from sklearn.linear_model import Ridge\n",
    "from sklearn.linear_model import Lasso\n",
    "from sklearn.linear_model import SGDRegressor\n",
    "\n",
    "# Cross-validation helpers\n",
    "from sklearn.model_selection import cross_val_score\n",
    "from sklearn.model_selection import cross_validate\n",
    "from sklearn.model_selection import ShuffleSplit\n",
    "from sklearn.model_selection import train_test_split\n",
    "\n",
    "# Polynomial generator\n",
    "from sklearn.preprocessing import PolynomialFeatures\n",
    "\n",
    "# Set random seed, so our results are similar\n",
    "# Where does 42 come from?\n",
    "np.random.seed(42)"
   ]
  },
  {
   "cell_type": "markdown",
   "metadata": {},
   "source": [
    "# Starter functions"
   ]
  },
  {
   "cell_type": "code",
   "execution_count": 77,
   "metadata": {},
   "outputs": [],
   "source": [
    "# Function to generate linear data experiments\n",
    "def genLinData(m,n,R2):\n",
    "    # y = x_1 + x_2 .. x_n + eps\n",
    "    # X's scaled so the variance of explained part is 1\n",
    "    # Function choses variance of noise to set theoretical R2 = R2 argument\n",
    "    sigNoise = np.sqrt(1./n)\n",
    "    X = np.random.normal(size=(m,n),loc=0,scale=sigNoise)\n",
    "    noise = np.sqrt((1.-R2)/R2)\n",
    "    eps = np.random.normal(size=m,loc=0,scale=noise)\n",
    "    y = np.sum(X,axis=1)+eps\n",
    "    return X,y"
   ]
  },
  {
   "cell_type": "markdown",
   "metadata": {},
   "source": [
    "### A little preprocessing"
   ]
  },
  {
   "cell_type": "code",
   "execution_count": 78,
   "metadata": {},
   "outputs": [
    {
     "name": "stdout",
     "output_type": "stream",
     "text": [
      "(60, 65)\n"
     ]
    }
   ],
   "source": [
    "# Set up initial monte-carlo simulation\n",
    "X, y = genLinData(60,10,0.75)\n",
    "\n",
    "# Expand features(X) using 2-degree polynomials\n",
    "poly = PolynomialFeatures(degree=2,include_bias=False)\n",
    "Xpoly = poly.fit_transform(X)\n",
    "# A reminder of how big Xpoly is (remember it has cross terms like x1*x2, not just x1^2)\n",
    "# n + n + n(n-1)/2 = 65\n",
    "print(Xpoly.shape)\n",
    "\n",
    "# Set up basic simulation parameters\n",
    "nmc = 50 # number of randomized cross-validations\n",
    "testSize = 0.25 # Test set fraction\n"
   ]
  },
  {
   "cell_type": "markdown",
   "metadata": {},
   "source": [
    "### 1. Linear regression\n",
    "\n",
    "Run a monte-carlo cross-validation for a basic linear regression model using the nmc, and testSize parameters, and cross_Validate() as we usually do.  Report the mean score from both the training and test samples.  Do this for both the (y,X) pair, and the (y,Xpoly) pair.  In each case also report the elapsed time for your entire randomized cross validation experiment."
   ]
  },
  {
   "cell_type": "code",
   "execution_count": 79,
   "metadata": {},
   "outputs": [
    {
     "name": "stdout",
     "output_type": "stream",
     "text": [
      "Original Data: Mean Train Score = 0.7813515655808841, Mean Test Score = 0.5576463529456432, Time Elapsed = 0.05887174606323242 seconds\n",
      "Polynomial Data: Mean Train Score = 1.0, Mean Test Score = -0.7345061285250608, Time Elapsed = 0.07294344902038574 seconds\n"
     ]
    }
   ],
   "source": [
    "def monte_carlo_cv(X, y, nmc, testSize):\n",
    "    train_scores = []\n",
    "    test_scores = []\n",
    "    start_time = time.time()\n",
    "\n",
    "    for _ in range(nmc):\n",
    "        X_train, X_test, y_train, y_test = train_test_split(X, y, test_size=testSize)\n",
    "        model = LinearRegression().fit(X_train, y_train) #find the best coefficients\n",
    "        train_score = model.score(X_train, y_train)\n",
    "        test_score = model.score(X_test, y_test)\n",
    "        train_scores.append(train_score)\n",
    "        test_scores.append(test_score)\n",
    "\n",
    "    elapsed_time_lr = time.time() - start_time\n",
    "    mean_train_score_lr = np.mean(train_scores)\n",
    "    mean_test_score_lr = np.mean(test_scores)\n",
    "\n",
    "    return mean_train_score_lr, mean_test_score_lr, elapsed_time_lr\n",
    "\n",
    "# Simulations\n",
    "mean_train_lr, mean_test_lr, elapsed_lr = monte_carlo_cv(X, y, nmc, testSize)\n",
    "print(f\"Original Data: Mean Train Score = {mean_train_lr}, Mean Test Score = {mean_test_lr}, Time Elapsed = {elapsed_lr} seconds\")\n",
    "\n",
    "mean_train_poly_lr, mean_test_poly_lr, elapsed_poly_lr = monte_carlo_cv(Xpoly, y, nmc, testSize)\n",
    "print(f\"Polynomial Data: Mean Train Score = {mean_train_poly_lr}, Mean Test Score = {mean_test_poly_lr}, Time Elapsed = {elapsed_poly_lr} seconds\")"
   ]
  },
  {
   "cell_type": "markdown",
   "metadata": {},
   "source": [
    "### 2. Stochastic gradient\n",
    "\n",
    "Now estimate the model using a stochastic gradient system.  Use the scikit-Learn function SGDRegressor().\n",
    "Set it up with the following parameters.\n",
    "\n",
    "SGDRegressor(max_iter=500000, tol=1e-6,penalty=\"None\",eta0=0.01,\n",
    "                    alpha=0.0,learning_rate=\"adaptive\")\n",
    "\n",
    "Run a randomized cross-validation for both the (y,X) and (y,Xpoly) pairs using the nmc, testSize that you used in the last simulation.  Report the mean train and test scores in both cases.\n",
    "\n",
    "Also, find the elapsed time for your entire randomized cross validation run.\n",
    "\n",
    "Finally, try boosting the learning rate, eta, to 1.0 for the (y,Xpoly) case. How did that work?"
   ]
  },
  {
   "cell_type": "code",
   "execution_count": 80,
   "metadata": {},
   "outputs": [
    {
     "name": "stdout",
     "output_type": "stream",
     "text": [
      "Original Data: Mean Train Score = 0.7736008753068555, Mean Test Score = 0.5889445189533761, Time Elapsed = 0.0859231948852539 seconds\n",
      "Polynomial Data with eta=0.01: Mean Train Score = 0.9885711253996456, Mean Test Score = -0.06286530485668484, Time Elapsed = 1.4898395538330078 seconds\n",
      "Polynomial Data with eta=1.0: Mean Train Score = -172852834.72047287, Mean Test Score = -336245904.77412874, Time Elapsed = 0.11892843246459961 seconds\n"
     ]
    }
   ],
   "source": [
    "# Setup for SGD Regressor\n",
    "def setup_sgd(eta0=0.01):\n",
    "    return SGDRegressor(max_iter=500000, tol=1e-6, penalty=None, eta0=eta0,\n",
    "                        alpha=0.0, learning_rate=\"adaptive\")\n",
    "\n",
    "# Function to perform randomized cross-validation\n",
    "def randomized_cv(X, y, nmc, testSize, eta0=0.01):\n",
    "    train_scores = []\n",
    "    test_scores = []\n",
    "    start_time = time.time()\n",
    "    sgd = setup_sgd(eta0)\n",
    "\n",
    "    for _ in range(nmc):\n",
    "        X_train, X_test, y_train, y_test = train_test_split(X, y, test_size=testSize)\n",
    "        sgd.fit(X_train, y_train)\n",
    "        train_scores.append(sgd.score(X_train, y_train))\n",
    "        test_scores.append(sgd.score(X_test, y_test))\n",
    "\n",
    "    elapsed_time_sg = time.time() - start_time\n",
    "    mean_train_score_sg = np.mean(train_scores)\n",
    "    mean_test_score_sg = np.mean(test_scores)\n",
    "\n",
    "    return mean_train_score_sg, mean_test_score_sg, elapsed_time_sg\n",
    "\n",
    "# For original data\n",
    "mean_train_sg, mean_test_sg, elapsed_sg = randomized_cv(X, y, nmc, testSize)\n",
    "print(f\"Original Data: Mean Train Score = {mean_train_sg}, Mean Test Score = {mean_test_sg}, Time Elapsed = {elapsed_sg} seconds\")\n",
    "\n",
    "# For polynomial data with eta0=0.01\n",
    "mean_train_poly_sg, mean_test_poly_sg, elapsed_poly_sg = randomized_cv(Xpoly, y, nmc, testSize)\n",
    "print(f\"Polynomial Data with eta=0.01: Mean Train Score = {mean_train_poly_sg}, Mean Test Score = {mean_test_poly_sg}, Time Elapsed = {elapsed_poly_sg} seconds\")\n",
    "\n",
    "# For polynomial data with boosted eta0=1.0\n",
    "mean_train_poly_boosted_sg, mean_test_poly_boosted_sg, elapsed_poly_boosted_sg = randomized_cv(Xpoly, y, nmc, testSize, eta0=1.0)\n",
    "print(f\"Polynomial Data with eta=1.0: Mean Train Score = {mean_train_poly_boosted_sg}, Mean Test Score = {mean_test_poly_boosted_sg}, Time Elapsed = {elapsed_poly_boosted_sg} seconds\")"
   ]
  },
  {
   "cell_type": "markdown",
   "metadata": {},
   "source": [
    "### 3. Early stopping\n",
    "\n",
    "Now, implement an early stopping procedure for the stochastic gradient estimation.  Use the previous parameters for SGDRegressor(), but turn on early_stopping.  Set the validation_fraction to 1/3 of the data set.  Again, run the same randomized cross valiation experiment that you have done before, and report mean scores on training and test data.  Repeat this for (y,X) and (y,Xpoly).  Also, report the elapsed time in for each set of nmc simulations.\n",
    "\n",
    "Note: Both of these can be pretty slow.  On my laptop machine (5 years old) the (y,Xpoly) run is taking about 5-10 minutes.  Run experiments on your code with much lower values for nmc.  Then when you know things are working take it back to the original value.  It is interesting that early stopping is so slow."
   ]
  },
  {
   "cell_type": "code",
   "execution_count": 81,
   "metadata": {},
   "outputs": [
    {
     "name": "stdout",
     "output_type": "stream",
     "text": [
      "Original Data: Mean Train Score = 0.7086934389924293, Mean Test Score = 0.47643241167618205, Time Elapsed = 11.990851640701294 seconds\n",
      "Polynomial Data: Mean Train Score = 0.7168117402996191, Mean Test Score = 0.39426261913081523, Time Elapsed = 6.378281116485596 seconds\n"
     ]
    }
   ],
   "source": [
    "# Setup for SGD Regressor with Early Stopping\n",
    "def setup_sgd_early_stopping(eta0=0.01):\n",
    "    return SGDRegressor(max_iter=500000, tol=1e-6, penalty=None, eta0=eta0,\n",
    "                        alpha=0.0, learning_rate=\"adaptive\", early_stopping=True,\n",
    "                        validation_fraction=1/3, n_iter_no_change=5)\n",
    "\n",
    "# Function to perform randomized cross-validation with early stopping\n",
    "def randomized_cv_early_stopping(X, y, nmc, testSize, eta0=0.01):\n",
    "    train_scores = []\n",
    "    test_scores = []\n",
    "    start_time = time.time()\n",
    "    sgd = setup_sgd_early_stopping(eta0)\n",
    "\n",
    "    for _ in range(nmc):\n",
    "        X_train, X_test, y_train, y_test = train_test_split(X, y, test_size=testSize)\n",
    "        sgd.fit(X_train, y_train)\n",
    "        train_scores.append(sgd.score(X_train, y_train))\n",
    "        test_scores.append(sgd.score(X_test, y_test))\n",
    "\n",
    "    elapsed_time_es = time.time() - start_time\n",
    "    mean_train_score_es = np.mean(train_scores)\n",
    "    mean_test_score_es = np.mean(test_scores)\n",
    "\n",
    "    return mean_train_score_es, mean_test_score_es, elapsed_time_es\n",
    "\n",
    "# Define simulation parameters\n",
    "nmc = 50  # Adjust for quick testing\n",
    "testSize = 0.25\n",
    "\n",
    "# For original data\n",
    "mean_train_es, mean_test_es, elapsed_es= randomized_cv_early_stopping(X, y, nmc, testSize)\n",
    "print(f\"Original Data: Mean Train Score = {mean_train_es}, Mean Test Score = {mean_test_es}, Time Elapsed = {elapsed_es} seconds\")\n",
    "\n",
    "# For polynomial data\n",
    "mean_train_poly_es, mean_test_poly_es, elapsed_poly_es = randomized_cv_early_stopping(Xpoly, y, nmc, testSize)\n",
    "print(f\"Polynomial Data: Mean Train Score = {mean_train_poly_es}, Mean Test Score = {mean_test_poly_es}, Time Elapsed = {elapsed_poly_es} seconds\")"
   ]
  },
  {
   "cell_type": "markdown",
   "metadata": {},
   "source": [
    "### 4. Batch gradient descent\n",
    "\n",
    "Estimate the model using a batch gradient descent model.  See the \"earlyStopping\" notebook for examples on how to implement this.  (It is tricky in terms of code.)\n",
    "\n",
    "Do a randomized cross-validation here using the same parameters as before, but this will be tricky because of the way the model gets implemented.  You cannot use cross_validate().  You need to go back to train_test_split(), and loop over the train/test draws as we did the first time in the class with this.  Also, for the batch estimation, use 1000 epochs (or passes through the data).\n",
    "\n",
    "This means that you will have two loops, one inside the other.  The outer for loop will do a train/test split draw, and the inner one will do a loop on 1000 epochs doing a partial_fit on each epoch (see earlyStopping.ipynb).\n",
    "\n",
    "-----\n",
    "\n",
    "for i in range(nmc):\n",
    "\n",
    "    X_train, X_test, y_train, y_test = train_test_split(Xpoly, y, test_size=testSize)\n",
    "    \n",
    "    for epoch in range(1000):\n",
    "    \n",
    "        sgdr.partial_fit(X_train,y_train)\n",
    "        \n",
    "    trainVec[i] = sgdr.score(X_train,y_train)\n",
    "    \n",
    "    testVec[i]  = sgdr.score(X_test,y_test)\n",
    "    \n",
    "------   \n",
    "\n",
    "Again, report mean scores on training and testing data, and elapsed time for the entire procedure.\n",
    "\n",
    "In this case, only use the (y,Xpoly) data."
   ]
  },
  {
   "cell_type": "code",
   "execution_count": 82,
   "metadata": {},
   "outputs": [
    {
     "name": "stdout",
     "output_type": "stream",
     "text": [
      "Polynomial Data: Mean Train Score = 0.970499058706665, Mean Test Score = -0.05179630790537584, Time Elapsed = 1.8875455856323242 seconds\n"
     ]
    }
   ],
   "source": [
    "# Set up the SGD Regressor for batch gradient descent\n",
    "def setup_sgd_batch(eta0=0.01):\n",
    "    return SGDRegressor(max_iter=1, tol=None, penalty=None, eta0=eta0,\n",
    "                        alpha=0.0, learning_rate=\"constant\", warm_start=True)\n",
    "\n",
    "# Function to perform batch gradient descent with randomized cross-validation\n",
    "def batch_gradient_descent(X, y, nmc, testSize, epochs=1000, eta0=0.01):\n",
    "    train_scores = []\n",
    "    test_scores = []\n",
    "    start_time = time.time()\n",
    "    sgdr = setup_sgd_batch(eta0)\n",
    "\n",
    "    for _ in range(nmc):\n",
    "        X_train, X_test, y_train, y_test = train_test_split(X, y, test_size=testSize)\n",
    "        sgdr = setup_sgd_batch(eta0)  # Reinitialize for each cross-validation iteration\n",
    "\n",
    "        for epoch in range(epochs):\n",
    "            sgdr.partial_fit(X_train, y_train)\n",
    "\n",
    "        train_scores.append(sgdr.score(X_train, y_train))\n",
    "        test_scores.append(sgdr.score(X_test, y_test))\n",
    "\n",
    "    elapsed_time_bgd = time.time() - start_time\n",
    "    mean_train_score_bgd = np.mean(train_scores)\n",
    "    mean_test_score_bgd = np.mean(test_scores)\n",
    "\n",
    "    return mean_train_score_bgd, mean_test_score_bgd, elapsed_time_bgd\n",
    "\n",
    "# Define parameters for simulation\n",
    "nmc = 10  # Number of Monte Carlo simulations\n",
    "testSize = 0.25  # Fraction of data to be used as test set\n",
    "\n",
    "# Use the polynomial features data (y, Xpoly)\n",
    "mean_train_poly_bgd, mean_test_poly_bgd, elapsed_poly_bgd = batch_gradient_descent(Xpoly, y, nmc, testSize)\n",
    "print(f\"Polynomial Data: Mean Train Score = {mean_train_poly_bgd}, Mean Test Score = {mean_test_poly_bgd}, Time Elapsed = {elapsed_poly_bgd} seconds\")"
   ]
  },
  {
   "cell_type": "markdown",
   "metadata": {},
   "source": [
    "### 5. Ridge regression\n",
    "\n",
    "Now try a ridge regresion with (y, Xpoly) data only.  Perform a grid search (using a for loop) with alpha in the following range.\n",
    "\n",
    "np.arange(start=0.1,stop=3.0,step=0.1)\n",
    "\n",
    "For each alpha find the mean train and test scores (R-squared) from a randomized cross-validation (same params as before).\n",
    "\n",
    "Plot the test and train mean scores against the alpha values.\n",
    "\n",
    "Record your bestAlpha from the test data."
   ]
  },
  {
   "cell_type": "code",
   "execution_count": 83,
   "metadata": {},
   "outputs": [
    {
     "data": {
      "image/png": "[encoded data removed]",
      "text/plain": [
       "<Figure size 1000x600 with 1 Axes>"
      ]
     },
     "metadata": {},
     "output_type": "display_data"
    },
    {
     "name": "stdout",
     "output_type": "stream",
     "text": [
      "The best alpha from the test data is: 0.8\n"
     ]
    }
   ],
   "source": [
    "# Function to perform Ridge regression with randomized cross-validation\n",
    "def ridge_regression_cv(X, y, alphas, nmc, testSize):\n",
    "    train_scores = []\n",
    "    test_scores = []\n",
    "    \n",
    "    # Loop through each alpha value\n",
    "    for alpha in alphas:\n",
    "        local_train_scores = []\n",
    "        local_test_scores = []\n",
    "        \n",
    "        # Perform randomized cross-validation\n",
    "        for _ in range(nmc):\n",
    "            X_train, X_test, y_train, y_test = train_test_split(X, y, test_size=testSize)\n",
    "            model = Ridge(alpha=alpha)\n",
    "            model.fit(X_train, y_train)\n",
    "            local_train_scores.append(model.score(X_train, y_train))\n",
    "            local_test_scores.append(model.score(X_test, y_test))\n",
    "        \n",
    "        # Calculate mean scores for the current alpha\n",
    "        train_scores.append(np.mean(local_train_scores))\n",
    "        test_scores.append(np.mean(local_test_scores))\n",
    "    \n",
    "    return train_scores, test_scores\n",
    "\n",
    "# Parameters\n",
    "nmc = 10  # Number of Monte Carlo simulations\n",
    "testSize = 0.25  # Fraction of data to be used as test set\n",
    "alphas = np.arange(start=0.1, stop=3.0, step=0.1)\n",
    "\n",
    "# Perform the grid search\n",
    "train_scores_rg, test_scores_rg = ridge_regression_cv(Xpoly, y, alphas, nmc, testSize)\n",
    "\n",
    "# Plotting the results\n",
    "plt.figure(figsize=(10, 6))\n",
    "plt.plot(alphas, train_scores_rg, label='Train Score')\n",
    "plt.plot(alphas, test_scores_rg, label='Test Score')\n",
    "plt.xlabel('Alpha')\n",
    "plt.ylabel('R-squared Score')\n",
    "plt.title('Ridge Regression Performance')\n",
    "plt.legend()\n",
    "plt.grid(True)\n",
    "plt.show()\n",
    "\n",
    "# Finding the best alpha\n",
    "best_alpha = alphas[np.argmax(test_scores_rg)]\n",
    "print(f\"The best alpha from the test data is: {best_alpha}\")"
   ]
  },
  {
   "cell_type": "markdown",
   "metadata": {},
   "source": [
    "### 6. Ridge regression summary\n",
    "\n",
    "Run our usual randomized monte-carlo trial for ridge regression using your bestAlpha value.  Same parameters as before.  Do this with only the (y,Xpoly) pairs and report the mean train and test scores.  Also, report the elapsed time."
   ]
  },
  {
   "cell_type": "code",
   "execution_count": 84,
   "metadata": {},
   "outputs": [
    {
     "name": "stdout",
     "output_type": "stream",
     "text": [
      "Ridge Regression with best alpha (1.0):\n",
      "Mean Train Score: 0.8382314542046405\n",
      "Mean Test Score: 0.4645487254909245\n",
      "Elapsed Time: 0.01 seconds\n"
     ]
    }
   ],
   "source": [
    "def ridge_regression_best_alpha(X, y, alpha, nmc, testSize):\n",
    "    train_scores = []\n",
    "    test_scores = []\n",
    "    start_time = time.time()\n",
    "\n",
    "    # Randomized cross-validation\n",
    "    for _ in range(nmc):\n",
    "        X_train, X_test, y_train, y_test = train_test_split(X, y, test_size=testSize)\n",
    "        model = Ridge(alpha=alpha)\n",
    "        model.fit(X_train, y_train)\n",
    "        train_scores.append(model.score(X_train, y_train))\n",
    "        test_scores.append(model.score(X_test, y_test))\n",
    "\n",
    "    elapsed_time = time.time() - start_time\n",
    "    mean_train_score = np.mean(train_scores)\n",
    "    mean_test_score = np.mean(test_scores)\n",
    "\n",
    "    return mean_train_score, mean_test_score, elapsed_time\n",
    "\n",
    "# Parameters\n",
    "nmc = 10  # Number of Monte Carlo simulations\n",
    "testSize = 0.25  # Fraction of data to be used as test set\n",
    "best_alpha = 1.0  # Replace with your actual bestAlpha obtained from the grid search\n",
    "\n",
    "# Perform the evaluation\n",
    "mean_train_score_rgba, mean_test_score_rgba, elapsed_time_rgba = ridge_regression_best_alpha(Xpoly, y, best_alpha, nmc, testSize)\n",
    "print(f\"Ridge Regression with best alpha ({best_alpha}):\")\n",
    "print(f\"Mean Train Score: {mean_train_score_rgba}\")\n",
    "print(f\"Mean Test Score: {mean_test_score_rgba}\")\n",
    "print(f\"Elapsed Time: {elapsed_time_rgba:.2f} seconds\")"
   ]
  },
  {
   "cell_type": "markdown",
   "metadata": {},
   "source": [
    "### 7. Discsussion\n",
    "\n",
    "Compare your results from your various models for the (y,Xpoly) case.  Which model performs best in terms of test R-squared?  What is your overall ranking of models?  (LinearRegression, Stochastic Gradient Descent, Stochastic Gradient Descent with Early Stopping, Batch Gradient Descent, and Ridge regression)\n",
    "\n",
    "In terms of compute time how do the methods compare?\n",
    "\n",
    "\n"
   ]
  },
  {
   "cell_type": "code",
   "execution_count": 86,
   "metadata": {},
   "outputs": [
    {
     "name": "stdout",
     "output_type": "stream",
     "text": [
      "\n",
      "Comparison of Model Performance on (y, Xpoly):\n",
      "- The best model in terms of test R-squared is Ridge Regression with a test score of 0.465.\n",
      "- Overall ranking of models by test performance: 1. Ridge Regression: 0.4645487254909245, 2. Early Stopping with SGD :0.39426261913081523, 3. Batch Gradient Descent: -0.05179630790537584, 4. Linear Regression: -0.735, 5. Stochastic Gradient Descent:-336245904.77412874.\n",
      "\n",
      "Comparison of Computational Efficiency:\n",
      "- Ridge Regression is the fastest, taking only 0.01 seconds.\n",
      "- Linear Regression also performs quickly, requiring 0.06 seconds.\n",
      "- Stochastic Gradient Descent's computation time varies; with eta=0.01 it took 0.12 seconds, and with eta=1.0 it was 0.12 seconds.\n",
      "- Batch Gradient Descent and Early Stopping with SGD are slower, taking 1.89 and 6.38 seconds respectively.\n",
      "\n"
     ]
    }
   ],
   "source": [
    "print(f\"\"\"\n",
    "Comparison of Model Performance on (y, Xpoly):\n",
    "- The best model in terms of test R-squared is Ridge Regression with a test score of {mean_test_score_rgba:.3f}.\n",
    "- Overall ranking of models by test performance: 1. Ridge Regression: {mean_test_score_rgba}, 2. Early Stopping with SGD :{mean_test_poly_es}, 3. Batch Gradient Descent: {mean_test_poly_bgd}, 4. Linear Regression: {mean_test_poly_lr:.3f}, 5. Stochastic Gradient Descent:{mean_test_poly_boosted_sg}.\n",
    "\n",
    "Comparison of Computational Efficiency:\n",
    "- Ridge Regression is the fastest, taking only {elapsed_time_rgba:.2f} seconds.\n",
    "- Linear Regression also performs quickly, requiring {elapsed_lr:.2f} seconds.\n",
    "- Stochastic Gradient Descent's computation time varies; with eta=0.01 it took {elapsed_poly_boosted_sg:.2f} seconds, and with eta=1.0 it was {elapsed_poly_boosted_sg:.2f} seconds.\n",
    "- Batch Gradient Descent and Early Stopping with SGD are slower, taking {elapsed_poly_bgd:.2f} and {elapsed_poly_es:.2f} seconds respectively.\n",
    "\"\"\")\n"
   ]
  }
 ],
 "metadata": {
  "kernelspec": {
   "display_name": "base",
   "language": "python",
   "name": "python3"
  },
  "language_info": {
   "codemirror_mode": {
    "name": "ipython",
    "version": 3
   },
   "file_extension": ".py",
   "mimetype": "text/x-python",
   "name": "python",
   "nbconvert_exporter": "python",
   "pygments_lexer": "ipython3",
   "version": "3.11.5"
  }
 },
 "nbformat": 4,
 "nbformat_minor": 4
}
